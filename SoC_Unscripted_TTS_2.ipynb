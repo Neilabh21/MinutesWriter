{
  "nbformat": 4,
  "nbformat_minor": 0,
  "metadata": {
    "colab": {
      "name": "SoC - Unscripted - TTS - 2.ipynb",
      "provenance": [],
      "include_colab_link": true
    },
    "kernelspec": {
      "name": "python3",
      "display_name": "Python 3"
    },
    "language_info": {
      "name": "python"
    }
  },
  "cells": [
    {
      "cell_type": "markdown",
      "metadata": {
        "id": "view-in-github",
        "colab_type": "text"
      },
      "source": [
        "<a href=\"https://colab.research.google.com/github/Neilabh21/SoC21-Unscripted/blob/main/SoC_Unscripted_TTS_2.ipynb\" target=\"_parent\"><img src=\"https://colab.research.google.com/assets/colab-badge.svg\" alt=\"Open In Colab\"/></a>"
      ]
    },
    {
      "cell_type": "code",
      "metadata": {
        "id": "uDnaS1ira55b"
      },
      "source": [
        "# To wrap text in the output\n",
        "from IPython.display import HTML, display\n",
        "\n",
        "def set_css():\n",
        "  display(HTML('''\n",
        "  <style>\n",
        "    pre {\n",
        "        white-space: pre-wrap;\n",
        "    }\n",
        "  </style>\n",
        "  '''))\n",
        "get_ipython().events.register('pre_run_cell', set_css)"
      ],
      "execution_count": 1,
      "outputs": []
    },
    {
      "cell_type": "code",
      "metadata": {
        "colab": {
          "base_uri": "https://localhost:8080/",
          "height": 217
        },
        "id": "UDssz-6xKSCv",
        "outputId": "354ac39d-4b63-47a0-9527-76fc94fb6b40"
      },
      "source": [
        "!unzip samples.zip"
      ],
      "execution_count": 2,
      "outputs": [
        {
          "output_type": "display_data",
          "data": {
            "text/html": [
              "\n",
              "  <style>\n",
              "    pre {\n",
              "        white-space: pre-wrap;\n",
              "    }\n",
              "  </style>\n",
              "  "
            ],
            "text/plain": [
              "<IPython.core.display.HTML object>"
            ]
          },
          "metadata": {
            "tags": []
          }
        },
        {
          "output_type": "stream",
          "text": [
            "Archive:  samples.zip\n",
            "  inflating: sample audio-text/audio_data.xlsx  \n",
            "  inflating: sample audio-text/audio _4_5.txt  \n",
            "  inflating: sample audio-text/audio2.txt  \n",
            "  inflating: sample audio-text/audio1.txt  \n",
            "  inflating: sample audio-text/audio4.mp3  \n",
            "  inflating: sample audio-text/audio5.mp3  \n",
            "  inflating: sample audio-text/audio2.mp3  \n",
            "  inflating: sample audio-text/audio3.txt  \n",
            "  inflating: sample audio-text/audio3.mp3  \n",
            "  inflating: sample audio-text/audio1.mp3  \n"
          ],
          "name": "stdout"
        }
      ]
    },
    {
      "cell_type": "code",
      "metadata": {
        "colab": {
          "base_uri": "https://localhost:8080/",
          "height": 799
        },
        "id": "KR2gNywtW4Qm",
        "outputId": "ab8ad7d7-dbbc-4f8b-827f-8a643534d429"
      },
      "source": [
        "# Install SpeechRecognition and jiwer libraries\n",
        "!pip install SpeechRecognition jiwer pydub bleu rouge\n",
        "!apt install ffmpeg"
      ],
      "execution_count": 26,
      "outputs": [
        {
          "output_type": "display_data",
          "data": {
            "text/html": [
              "\n",
              "  <style>\n",
              "    pre {\n",
              "        white-space: pre-wrap;\n",
              "    }\n",
              "  </style>\n",
              "  "
            ],
            "text/plain": [
              "<IPython.core.display.HTML object>"
            ]
          },
          "metadata": {
            "tags": []
          }
        },
        {
          "output_type": "stream",
          "text": [
            "Requirement already satisfied: SpeechRecognition in /usr/local/lib/python3.7/dist-packages (3.8.1)\n",
            "Requirement already satisfied: jiwer in /usr/local/lib/python3.7/dist-packages (2.2.0)\n",
            "Requirement already satisfied: pydub in /usr/local/lib/python3.7/dist-packages (0.25.1)\n",
            "Requirement already satisfied: bleu in /usr/local/lib/python3.7/dist-packages (0.3)\n",
            "Collecting rouge\n",
            "  Downloading https://files.pythonhosted.org/packages/43/cc/e18e33be20971ff73a056ebdb023476b5a545e744e3fc22acd8c758f1e0d/rouge-1.0.0-py3-none-any.whl\n",
            "Requirement already satisfied: python-Levenshtein in /usr/local/lib/python3.7/dist-packages (from jiwer) (0.12.2)\n",
            "Requirement already satisfied: numpy in /usr/local/lib/python3.7/dist-packages (from jiwer) (1.19.5)\n",
            "Requirement already satisfied: efficiency in /usr/local/lib/python3.7/dist-packages (from bleu) (0.5)\n",
            "Requirement already satisfied: six in /usr/local/lib/python3.7/dist-packages (from rouge) (1.15.0)\n",
            "Requirement already satisfied: setuptools in /usr/local/lib/python3.7/dist-packages (from python-Levenshtein->jiwer) (57.0.0)\n",
            "Requirement already satisfied: spacy in /usr/local/lib/python3.7/dist-packages (from efficiency->bleu) (2.2.4)\n",
            "Requirement already satisfied: cymem<2.1.0,>=2.0.2 in /usr/local/lib/python3.7/dist-packages (from spacy->efficiency->bleu) (2.0.5)\n",
            "Requirement already satisfied: preshed<3.1.0,>=3.0.2 in /usr/local/lib/python3.7/dist-packages (from spacy->efficiency->bleu) (3.0.5)\n",
            "Requirement already satisfied: requests<3.0.0,>=2.13.0 in /usr/local/lib/python3.7/dist-packages (from spacy->efficiency->bleu) (2.23.0)\n",
            "Requirement already satisfied: catalogue<1.1.0,>=0.0.7 in /usr/local/lib/python3.7/dist-packages (from spacy->efficiency->bleu) (1.0.0)\n",
            "Requirement already satisfied: blis<0.5.0,>=0.4.0 in /usr/local/lib/python3.7/dist-packages (from spacy->efficiency->bleu) (0.4.1)\n",
            "Requirement already satisfied: wasabi<1.1.0,>=0.4.0 in /usr/local/lib/python3.7/dist-packages (from spacy->efficiency->bleu) (0.8.2)\n",
            "Requirement already satisfied: plac<1.2.0,>=0.9.6 in /usr/local/lib/python3.7/dist-packages (from spacy->efficiency->bleu) (1.1.3)\n",
            "Requirement already satisfied: murmurhash<1.1.0,>=0.28.0 in /usr/local/lib/python3.7/dist-packages (from spacy->efficiency->bleu) (1.0.5)\n",
            "Requirement already satisfied: srsly<1.1.0,>=1.0.2 in /usr/local/lib/python3.7/dist-packages (from spacy->efficiency->bleu) (1.0.5)\n",
            "Requirement already satisfied: thinc==7.4.0 in /usr/local/lib/python3.7/dist-packages (from spacy->efficiency->bleu) (7.4.0)\n",
            "Requirement already satisfied: tqdm<5.0.0,>=4.38.0 in /usr/local/lib/python3.7/dist-packages (from spacy->efficiency->bleu) (4.41.1)\n",
            "Requirement already satisfied: chardet<4,>=3.0.2 in /usr/local/lib/python3.7/dist-packages (from requests<3.0.0,>=2.13.0->spacy->efficiency->bleu) (3.0.4)\n",
            "Requirement already satisfied: urllib3!=1.25.0,!=1.25.1,<1.26,>=1.21.1 in /usr/local/lib/python3.7/dist-packages (from requests<3.0.0,>=2.13.0->spacy->efficiency->bleu) (1.24.3)\n",
            "Requirement already satisfied: certifi>=2017.4.17 in /usr/local/lib/python3.7/dist-packages (from requests<3.0.0,>=2.13.0->spacy->efficiency->bleu) (2021.5.30)\n",
            "Requirement already satisfied: idna<3,>=2.5 in /usr/local/lib/python3.7/dist-packages (from requests<3.0.0,>=2.13.0->spacy->efficiency->bleu) (2.10)\n",
            "Requirement already satisfied: importlib-metadata>=0.20; python_version < \"3.8\" in /usr/local/lib/python3.7/dist-packages (from catalogue<1.1.0,>=0.0.7->spacy->efficiency->bleu) (4.5.0)\n",
            "Requirement already satisfied: typing-extensions>=3.6.4; python_version < \"3.8\" in /usr/local/lib/python3.7/dist-packages (from importlib-metadata>=0.20; python_version < \"3.8\"->catalogue<1.1.0,>=0.0.7->spacy->efficiency->bleu) (3.7.4.3)\n",
            "Requirement already satisfied: zipp>=0.5 in /usr/local/lib/python3.7/dist-packages (from importlib-metadata>=0.20; python_version < \"3.8\"->catalogue<1.1.0,>=0.0.7->spacy->efficiency->bleu) (3.4.1)\n",
            "Installing collected packages: rouge\n",
            "Successfully installed rouge-1.0.0\n",
            "Reading package lists... Done\n",
            "Building dependency tree       \n",
            "Reading state information... Done\n",
            "ffmpeg is already the newest version (7:3.4.8-0ubuntu0.2).\n",
            "0 upgraded, 0 newly installed, 0 to remove and 39 not upgraded.\n"
          ],
          "name": "stdout"
        }
      ]
    },
    {
      "cell_type": "code",
      "metadata": {
        "colab": {
          "base_uri": "https://localhost:8080/",
          "height": 17
        },
        "id": "QZHGILD4W6Z-",
        "outputId": "b9378da3-3a1c-4812-9fd0-3fa931e97b21"
      },
      "source": [
        "# Imports\n",
        "import speech_recognition as sr\n",
        "from jiwer import wer\n",
        "from os import path\n",
        "from pydub import AudioSegment\n",
        "from rouge import Rouge\n",
        "from bleu import list_bleu\n",
        "# sr.__version__"
      ],
      "execution_count": 27,
      "outputs": [
        {
          "output_type": "display_data",
          "data": {
            "text/html": [
              "\n",
              "  <style>\n",
              "    pre {\n",
              "        white-space: pre-wrap;\n",
              "    }\n",
              "  </style>\n",
              "  "
            ],
            "text/plain": [
              "<IPython.core.display.HTML object>"
            ]
          },
          "metadata": {
            "tags": []
          }
        }
      ]
    },
    {
      "cell_type": "code",
      "metadata": {
        "colab": {
          "base_uri": "https://localhost:8080/",
          "height": 17
        },
        "id": "ILfUbmZBH53v",
        "outputId": "a68b8239-0da1-420b-f973-a298c95b29de"
      },
      "source": [
        "def STT(wavfile, txtfile):\n",
        "  r = sr.Recognizer()\n",
        "\n",
        "  with open(txtfile, 'r') as file:\n",
        "    ground_truth = file.read().replace('\\n', ' ')\n",
        "\n",
        "  sound = AudioSegment.from_mp3(wavfile)\n",
        "  sound.export(\"temp.wav\", format=\"wav\")\n",
        "\n",
        "  hellow = sr.AudioFile(\"temp.wav\")\n",
        "  with hellow as source:\n",
        "      audio = r.record(source)\n",
        "  try:\n",
        "      s = r.recognize_google(audio)\n",
        "      print(\"Text: \"+s+\"\\n\")\n",
        "      print(\"Truth: \"+ground_truth+\"\\n\")\n",
        "      error = wer(ground_truth, s)\n",
        "      print(\"WER: \"+str(error))\n",
        "\n",
        "      rouge = Rouge()\n",
        "      # rouge.get_scores(s, ground_truth)\n",
        "      print(\"Rouge: \"+str(rouge.get_scores(s, ground_truth)))\n",
        "\n",
        "      bleu = list_bleu(ground_truth, s)\n",
        "      print(\"BLEU: \" + str(bleu))\n",
        "\n",
        "  except Exception as e:\n",
        "      print(\"Exception: \"+str(e))"
      ],
      "execution_count": 44,
      "outputs": [
        {
          "output_type": "display_data",
          "data": {
            "text/html": [
              "\n",
              "  <style>\n",
              "    pre {\n",
              "        white-space: pre-wrap;\n",
              "    }\n",
              "  </style>\n",
              "  "
            ],
            "text/plain": [
              "<IPython.core.display.HTML object>"
            ]
          },
          "metadata": {
            "tags": []
          }
        }
      ]
    },
    {
      "cell_type": "code",
      "metadata": {
        "id": "BbqBciDaeMB3",
        "colab": {
          "base_uri": "https://localhost:8080/",
          "height": 526
        },
        "outputId": "2e0d7b1c-41d1-46b9-8982-cae9abf77c33"
      },
      "source": [
        "STT(\"sample audio-text/audio1.mp3\", \"sample audio-text/audio1.txt\")"
      ],
      "execution_count": 45,
      "outputs": [
        {
          "output_type": "display_data",
          "data": {
            "text/html": [
              "\n",
              "  <style>\n",
              "    pre {\n",
              "        white-space: pre-wrap;\n",
              "    }\n",
              "  </style>\n",
              "  "
            ],
            "text/plain": [
              "<IPython.core.display.HTML object>"
            ]
          },
          "metadata": {
            "tags": []
          }
        },
        {
          "output_type": "stream",
          "text": [
            "Text: president Park President Rubinstein incoming president past members of the harbour corporation in the border Beziers members of The Faculty parents and especially the graduates I've been waiting more than 30 years to say this I always told you I come back and get my degree I want think Harvard for this time I'll be changing my job next year and it will be nice to finally have a college degree on my resume I applied the graduates for taking a much more direct out to your degrees from my heart I'm just happy that the Crimson called me harvard's most successful Dropout I guess that makes me valedictorian of my own special class I did the best of everyone who fail but I also want to be recognised as the guy who got Steve Ballmer to drop out a business school I'm a bad influence that's why I was invited to speak at your graduation if I spoken at your orientation you are of you might be there today was a phenomenal experience for me life was fascinating I used to sit in on what two classes that I haven't even signed up for and dorm life was terrific I lived at Radcliffe in Korea house they're always lot of people in my dorm room late at night discussing things because everyone knew that I didn't worry about getting up in the morning that's how it came to be the leader of the anti-social group we can't see each other way of validating or rejection of all those social people\n",
            "\n",
            "Truth: President Bok, former President Rudenstine, incoming President Faust, members of the Harvard Corporation and the Board of Overseers, members of the faculty, parents, and especially, the graduates: I’ve been waiting more than 30 years to say this: “Dad, I always told you I’d come back and get my degree.” I want to thank Harvard for this timely honor. I’ll be changing my job next year … and it will be nice to finally have a college degree on my resume. I applaud the graduates today for taking a much more direct route to your degrees. For my part, I’m just happy that the Crimson has called me “Harvard’s most successful dropout.” I guess that makes me valedictorian of my own special class … I did the best of everyone who failed. But I also want to be recognized as the guy who got Steve Ballmer to drop out of business school. I’m a bad influence. That’s why I was invited to speak at your graduation. If I had spoken at your orientation, fewer of you might be here today. Harvard was just a phenomenal experience for me. Academic life was fascinating. I used to sit in on lots of classes I hadn’t even signed up for. And dorm life was terrific. I lived up at Radcliffe, in Currier House. There were always lots of people in my dorm room late at night discussing things, because everyone knew I didn’t worry about getting up in the morning. That’s how I came to be the leader of the anti-social group. We clung to each other as a way of validating our rejection of all those social people. \n",
            "\n",
            "WER: 0.3236363636363636\n",
            "Rouge: [{'rouge-1': {'f': 0.7643784736691669, 'p': 0.789272030651341, 'r': 0.7410071942446043}, 'rouge-2': {'f': 0.5661080024538007, 'p': 0.5846153846153846, 'r': 0.5487364620938628}, 'rouge-l': {'f': 0.6956521689164461, 'p': 0.7142857142857143, 'r': 0.6779661016949152}}]\n",
            "Exception: [Error] File lengths are different! list(zip(files, num_lines)): [('/tmp/tmp_bleu/b11ec1e1-56b8-4c5b-975b-9f8b13a3f022/ref0.txt', 1496), ('/tmp/tmp_bleu/b11ec1e1-56b8-4c5b-975b-9f8b13a3f022/hyp0.txt', 1389)]\n"
          ],
          "name": "stdout"
        }
      ]
    },
    {
      "cell_type": "code",
      "metadata": {
        "colab": {
          "base_uri": "https://localhost:8080/",
          "height": 308
        },
        "id": "bvA1mXgCLdcF",
        "outputId": "31039fe1-e965-4cdf-81bc-398a436f61e2"
      },
      "source": [
        "STT(\"sample audio-text/audio2.mp3\", \"sample audio-text/audio2.txt\")"
      ],
      "execution_count": 30,
      "outputs": [
        {
          "output_type": "display_data",
          "data": {
            "text/html": [
              "\n",
              "  <style>\n",
              "    pre {\n",
              "        white-space: pre-wrap;\n",
              "    }\n",
              "  </style>\n",
              "  "
            ],
            "text/plain": [
              "<IPython.core.display.HTML object>"
            ]
          },
          "metadata": {
            "tags": []
          }
        },
        {
          "output_type": "stream",
          "text": [
            "Text: hi everybody it's Curtis and I'm here with Amy from real English conversations and we're going to talk about driving in Canada and North America and it all starts with getting your learners licence right Amy definitely something and it has all the rules of the road you have to study it because you have to write a written test or something like that when you need to stop all of those\n",
            "\n",
            "Truth: Hi, everybody. It's Curtis and I'm here with Amy from Real English Conversations. And we're going to talk about driving in Canada and North America. And it all starts with getting your learner's licence, right Amy? Yeah, definitely. In order to be on the road behind the wheel of a vehicle, you've got to have a license. And the first thing that you do is you actually--at least in Canada, we do things in a very specific way. We have something called a graduated licensing program. I'm sure that the United States does it differently. But you pick up this book and it has all the rules of the road. Yeah, you have to study it because you have to write a written test or something like that. Yeah, it's been a long time. Right, Curtis? It's been a very long time for me, yeah. So, yeah, you have to go in. There's a test that makes sure that obviously you've studied the book, you know about the rules of making a right hand turn, for example, when you need to yield, when you need to stop. All of those sort of things. \n",
            "\n",
            "WER: 0.7046632124352331\n",
            "Rouge: <rouge.rouge.Rouge object at 0x7fa8689808d0>\n",
            "Exception: [Error] File lengths are different! list(zip(files, num_lines)): [('/tmp/tmp_bleu/d8f2f266-af96-402f-af25-84db161023ff/ref0.txt', 1020), ('/tmp/tmp_bleu/d8f2f266-af96-402f-af25-84db161023ff/hyp0.txt', 385)]\n"
          ],
          "name": "stdout"
        }
      ]
    },
    {
      "cell_type": "code",
      "metadata": {
        "id": "cI1ckBfmNJFy"
      },
      "source": [
        ""
      ],
      "execution_count": null,
      "outputs": []
    },
    {
      "cell_type": "code",
      "metadata": {
        "id": "_PSg8Sn4NIxc"
      },
      "source": [
        ""
      ],
      "execution_count": null,
      "outputs": []
    },
    {
      "cell_type": "code",
      "metadata": {
        "id": "IMUDJGg0NIeD"
      },
      "source": [
        ""
      ],
      "execution_count": null,
      "outputs": []
    }
  ]
}